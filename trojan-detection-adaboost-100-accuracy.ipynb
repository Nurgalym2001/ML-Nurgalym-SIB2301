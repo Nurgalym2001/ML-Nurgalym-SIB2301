{
 "cells": [
  {
   "cell_type": "markdown",
   "id": "05690c63",
   "metadata": {
    "papermill": {
     "duration": 0.005699,
     "end_time": "2023-11-09T17:46:46.002811",
     "exception": false,
     "start_time": "2023-11-09T17:46:45.997112",
     "status": "completed"
    },
    "tags": []
   },
   "source": [
    "# **Найти лучшую модель**"
   ]
  },
  {
   "cell_type": "code",
   "execution_count": 1,
   "id": "c22c58da",
   "metadata": {
    "_cell_guid": "b1076dfc-b9ad-4769-8c92-a6c4dae69d19",
    "_uuid": "8f2839f25d086af736a60e9eeb907d3b93b6e0e5",
    "execution": {
     "iopub.execute_input": "2023-11-09T17:46:46.014039Z",
     "iopub.status.busy": "2023-11-09T17:46:46.013699Z",
     "iopub.status.idle": "2023-11-09T17:46:57.880108Z",
     "shell.execute_reply": "2023-11-09T17:46:57.878615Z"
    },
    "papermill": {
     "duration": 11.874599,
     "end_time": "2023-11-09T17:46:57.882237",
     "exception": false,
     "start_time": "2023-11-09T17:46:46.007638",
     "status": "completed"
    },
    "tags": []
   },
   "outputs": [
    {
     "name": "stdout",
     "output_type": "stream",
     "text": [
      "Note: you may need to restart the kernel to use updated packages.\n"
     ]
    },
    {
     "name": "stderr",
     "output_type": "stream",
     "text": [
      "‘ЁбвҐ¬Ґ ­Ґ г¤ Ґвбп ­ ©вЁ гЄ § ­­л© Їгвм.\n"
     ]
    }
   ],
   "source": [
    "pip install lazypredict > /dev/null 2>&1"
   ]
  },
  {
   "cell_type": "code",
   "execution_count": 1,
   "id": "07f0d4d8",
   "metadata": {},
   "outputs": [
    {
     "name": "stdout",
     "output_type": "stream",
     "text": [
      "Defaulting to user installation because normal site-packages is not writeableNote: you may need to restart the kernel to use updated packages.\n",
      "\n",
      "Collecting lazypredict\n",
      "  Downloading lazypredict-0.2.12-py2.py3-none-any.whl.metadata (12 kB)\n",
      "Requirement already satisfied: click in c:\\programdata\\anaconda3\\lib\\site-packages (from lazypredict) (8.0.4)\n",
      "Requirement already satisfied: scikit-learn in c:\\programdata\\anaconda3\\lib\\site-packages (from lazypredict) (1.2.1)\n",
      "Requirement already satisfied: pandas in c:\\programdata\\anaconda3\\lib\\site-packages (from lazypredict) (1.5.3)\n",
      "Requirement already satisfied: tqdm in c:\\programdata\\anaconda3\\lib\\site-packages (from lazypredict) (4.64.1)\n",
      "Requirement already satisfied: joblib in c:\\programdata\\anaconda3\\lib\\site-packages (from lazypredict) (1.1.1)\n",
      "Collecting lightgbm (from lazypredict)\n",
      "  Downloading lightgbm-4.3.0-py3-none-win_amd64.whl.metadata (19 kB)\n",
      "Requirement already satisfied: xgboost in c:\\users\\lenovo\\appdata\\roaming\\python\\python310\\site-packages (from lazypredict) (1.7.5)\n",
      "Requirement already satisfied: colorama in c:\\programdata\\anaconda3\\lib\\site-packages (from click->lazypredict) (0.4.6)\n",
      "Requirement already satisfied: numpy in c:\\programdata\\anaconda3\\lib\\site-packages (from lightgbm->lazypredict) (1.23.5)\n",
      "Requirement already satisfied: scipy in c:\\programdata\\anaconda3\\lib\\site-packages (from lightgbm->lazypredict) (1.10.0)\n",
      "Requirement already satisfied: python-dateutil>=2.8.1 in c:\\programdata\\anaconda3\\lib\\site-packages (from pandas->lazypredict) (2.8.2)\n",
      "Requirement already satisfied: pytz>=2020.1 in c:\\programdata\\anaconda3\\lib\\site-packages (from pandas->lazypredict) (2022.7)\n",
      "Requirement already satisfied: threadpoolctl>=2.0.0 in c:\\programdata\\anaconda3\\lib\\site-packages (from scikit-learn->lazypredict) (2.2.0)\n",
      "Requirement already satisfied: six>=1.5 in c:\\programdata\\anaconda3\\lib\\site-packages (from python-dateutil>=2.8.1->pandas->lazypredict) (1.16.0)\n",
      "Downloading lazypredict-0.2.12-py2.py3-none-any.whl (12 kB)\n",
      "Downloading lightgbm-4.3.0-py3-none-win_amd64.whl (1.3 MB)\n",
      "   ---------------------------------------- 0.0/1.3 MB ? eta -:--:--\n",
      "    --------------------------------------- 0.0/1.3 MB ? eta -:--:--\n",
      "   -- ------------------------------------- 0.1/1.3 MB 744.7 kB/s eta 0:00:02\n",
      "   -- ------------------------------------- 0.1/1.3 MB 744.7 kB/s eta 0:00:02\n",
      "   ---- ----------------------------------- 0.2/1.3 MB 706.2 kB/s eta 0:00:02\n",
      "   ---- ----------------------------------- 0.2/1.3 MB 706.2 kB/s eta 0:00:02\n",
      "   ----- ---------------------------------- 0.2/1.3 MB 523.5 kB/s eta 0:00:03\n",
      "   -------- ------------------------------- 0.3/1.3 MB 811.7 kB/s eta 0:00:02\n",
      "   -------- ------------------------------- 0.3/1.3 MB 811.7 kB/s eta 0:00:02\n",
      "   -------- ------------------------------- 0.3/1.3 MB 707.1 kB/s eta 0:00:02\n",
      "   -------- ------------------------------- 0.3/1.3 MB 707.1 kB/s eta 0:00:02\n",
      "   ------------- -------------------------- 0.5/1.3 MB 853.3 kB/s eta 0:00:02\n",
      "   ---------------- ----------------------- 0.6/1.3 MB 1.0 MB/s eta 0:00:01\n",
      "   ---------------- ----------------------- 0.6/1.3 MB 1.0 MB/s eta 0:00:01\n",
      "   ------------------- -------------------- 0.7/1.3 MB 975.2 kB/s eta 0:00:01\n",
      "   --------------------- ------------------ 0.7/1.3 MB 1.0 MB/s eta 0:00:01\n",
      "   -------------------------- ------------- 0.9/1.3 MB 1.1 MB/s eta 0:00:01\n",
      "   ---------------------------- ----------- 0.9/1.3 MB 1.1 MB/s eta 0:00:01\n",
      "   ---------------------------- ----------- 0.9/1.3 MB 1.1 MB/s eta 0:00:01\n",
      "   -------------------------------- ------- 1.1/1.3 MB 1.2 MB/s eta 0:00:01\n",
      "   ------------------------------------- -- 1.3/1.3 MB 1.3 MB/s eta 0:00:01\n",
      "   ------------------------------------- -- 1.3/1.3 MB 1.3 MB/s eta 0:00:01\n",
      "   ------------------------------------- -- 1.3/1.3 MB 1.3 MB/s eta 0:00:01\n",
      "   ---------------------------------------  1.3/1.3 MB 1.2 MB/s eta 0:00:01\n",
      "   ---------------------------------------  1.3/1.3 MB 1.2 MB/s eta 0:00:01\n",
      "   ---------------------------------------- 1.3/1.3 MB 1.1 MB/s eta 0:00:00\n",
      "Installing collected packages: lightgbm, lazypredict\n",
      "Successfully installed lazypredict-0.2.12 lightgbm-4.3.0\n"
     ]
    },
    {
     "name": "stderr",
     "output_type": "stream",
     "text": [
      "  WARNING: The script lazypredict.exe is installed in 'C:\\Users\\LENOVO\\AppData\\Roaming\\Python\\Python310\\Scripts' which is not on PATH.\n",
      "  Consider adding this directory to PATH or, if you prefer to suppress this warning, use --no-warn-script-location.\n",
      "\n",
      "[notice] A new release of pip is available: 23.3.1 -> 24.0\n",
      "[notice] To update, run: python.exe -m pip install --upgrade pip\n"
     ]
    }
   ],
   "source": [
    "pip install lazypredict"
   ]
  },
  {
   "cell_type": "markdown",
   "id": "075b734f",
   "metadata": {
    "papermill": {
     "duration": 0.004627,
     "end_time": "2023-11-09T17:46:57.891945",
     "exception": false,
     "start_time": "2023-11-09T17:46:57.887318",
     "status": "completed"
    },
    "tags": []
   },
   "source": [
    "## **Imports**"
   ]
  },
  {
   "cell_type": "code",
   "execution_count": 2,
   "id": "e51e1cf9",
   "metadata": {
    "execution": {
     "iopub.execute_input": "2023-11-09T17:46:57.903878Z",
     "iopub.status.busy": "2023-11-09T17:46:57.903505Z",
     "iopub.status.idle": "2023-11-09T17:47:11.610088Z",
     "shell.execute_reply": "2023-11-09T17:47:11.608820Z"
    },
    "papermill": {
     "duration": 13.715828,
     "end_time": "2023-11-09T17:47:11.612786",
     "exception": false,
     "start_time": "2023-11-09T17:46:57.896958",
     "status": "completed"
    },
    "tags": []
   },
   "outputs": [
    {
     "name": "stdout",
     "output_type": "stream",
     "text": [
      "WARNING:tensorflow:From C:\\Users\\LENOVO\\AppData\\Roaming\\Python\\Python310\\site-packages\\keras\\src\\losses.py:2976: The name tf.losses.sparse_softmax_cross_entropy is deprecated. Please use tf.compat.v1.losses.sparse_softmax_cross_entropy instead.\n",
      "\n"
     ]
    }
   ],
   "source": [
    "import pandas as pd\n",
    "import numpy as np\n",
    "import gc\n",
    "from sklearn.model_selection import train_test_split\n",
    "from lazypredict.Supervised import LazyClassifier\n",
    "from keras.models import  Sequential\n",
    "from sklearn.preprocessing import LabelEncoder\n",
    "import random\n"
   ]
  },
  {
   "cell_type": "markdown",
   "id": "2c78f5d2",
   "metadata": {
    "papermill": {
     "duration": 0.004772,
     "end_time": "2023-11-09T17:47:11.623181",
     "exception": false,
     "start_time": "2023-11-09T17:47:11.618409",
     "status": "completed"
    },
    "tags": []
   },
   "source": [
    "## **Import data**"
   ]
  },
  {
   "cell_type": "markdown",
   "id": "89ab53c7",
   "metadata": {},
   "source": [
    "### Эти данные могут быть использованы для обнаружения трафика троянских программ. Данные содержат записи о трафике, таком как троянские программы и вредоносные программы, поэтому обнаружение троянских программ и доброкачественных программ может быть выполнено с использованием двоичной классификации. Данные получены с веб-сайта CIC. В наборе данных записано следующее количество образцов:\n",
    "\n",
    "### Троянские данные с 90 683 наблюдениями\n",
    "### Данные о вредоносных программах с 86 799 наблюдениями"
   ]
  },
  {
   "cell_type": "code",
   "execution_count": 3,
   "id": "cafef9e4",
   "metadata": {
    "execution": {
     "iopub.execute_input": "2023-11-09T17:47:11.634918Z",
     "iopub.status.busy": "2023-11-09T17:47:11.634128Z",
     "iopub.status.idle": "2023-11-09T17:47:14.122257Z",
     "shell.execute_reply": "2023-11-09T17:47:14.120988Z"
    },
    "papermill": {
     "duration": 2.497208,
     "end_time": "2023-11-09T17:47:14.125184",
     "exception": false,
     "start_time": "2023-11-09T17:47:11.627976",
     "status": "completed"
    },
    "scrolled": true,
    "tags": []
   },
   "outputs": [
    {
     "name": "stdout",
     "output_type": "stream",
     "text": [
      "(10000, 86)\n"
     ]
    }
   ],
   "source": [
    "data = pd.read_csv('Trojan_Detection.csv')\n",
    "\n",
    "# Сохраняйем 10 тысяч строк, чтобы найти лучшую модель (во избежание перегрузки памяти)\n",
    "data = data.iloc[:10000]\n",
    "\n",
    "print(data.shape)"
   ]
  },
  {
   "cell_type": "markdown",
   "id": "35ca2701",
   "metadata": {
    "papermill": {
     "duration": 0.005578,
     "end_time": "2023-11-09T17:47:14.136138",
     "exception": false,
     "start_time": "2023-11-09T17:47:14.130560",
     "status": "completed"
    },
    "tags": []
   },
   "source": [
    "## **Столбцы кодировки**"
   ]
  },
  {
   "cell_type": "code",
   "execution_count": 4,
   "id": "0c64aa02",
   "metadata": {
    "execution": {
     "iopub.execute_input": "2023-11-09T17:47:14.148695Z",
     "iopub.status.busy": "2023-11-09T17:47:14.148297Z",
     "iopub.status.idle": "2023-11-09T17:47:14.212771Z",
     "shell.execute_reply": "2023-11-09T17:47:14.211763Z"
    },
    "papermill": {
     "duration": 0.074108,
     "end_time": "2023-11-09T17:47:14.215375",
     "exception": false,
     "start_time": "2023-11-09T17:47:14.141267",
     "status": "completed"
    },
    "tags": []
   },
   "outputs": [],
   "source": [
    "lab=LabelEncoder()\n",
    "\n",
    "# Кодирование функций\n",
    "for i  in data.select_dtypes(include=\"object\").columns.values:\n",
    "    data[i]=lab.fit_transform(data[i])\n",
    "\n",
    "# Кодирование меток\n",
    "data['Class']=lab.fit_transform(data['Class'])"
   ]
  },
  {
   "cell_type": "markdown",
   "id": "19639e04",
   "metadata": {
    "papermill": {
     "duration": 0.004867,
     "end_time": "2023-11-09T17:47:14.225528",
     "exception": false,
     "start_time": "2023-11-09T17:47:14.220661",
     "status": "completed"
    },
    "tags": []
   },
   "source": [
    "# Разделение данных"
   ]
  },
  {
   "cell_type": "code",
   "execution_count": 5,
   "id": "488c03e6",
   "metadata": {
    "execution": {
     "iopub.execute_input": "2023-11-09T17:47:14.237502Z",
     "iopub.status.busy": "2023-11-09T17:47:14.237103Z",
     "iopub.status.idle": "2023-11-09T17:47:14.248015Z",
     "shell.execute_reply": "2023-11-09T17:47:14.247063Z"
    },
    "papermill": {
     "duration": 0.019329,
     "end_time": "2023-11-09T17:47:14.250039",
     "exception": false,
     "start_time": "2023-11-09T17:47:14.230710",
     "status": "completed"
    },
    "tags": []
   },
   "outputs": [],
   "source": [
    "x = data.iloc[:, 0:-2]\n",
    "y = data.iloc[:, -1]"
   ]
  },
  {
   "cell_type": "code",
   "execution_count": 6,
   "id": "52834ade",
   "metadata": {
    "execution": {
     "iopub.execute_input": "2023-11-09T17:47:14.261791Z",
     "iopub.status.busy": "2023-11-09T17:47:14.261405Z",
     "iopub.status.idle": "2023-11-09T17:47:14.274662Z",
     "shell.execute_reply": "2023-11-09T17:47:14.273679Z"
    },
    "papermill": {
     "duration": 0.021394,
     "end_time": "2023-11-09T17:47:14.276756",
     "exception": false,
     "start_time": "2023-11-09T17:47:14.255362",
     "status": "completed"
    },
    "tags": []
   },
   "outputs": [],
   "source": [
    "x_train,x_test,y_train,y_test=train_test_split(x, y, test_size=0.20, train_size=0.80)"
   ]
  },
  {
   "cell_type": "markdown",
   "id": "4a365e2b",
   "metadata": {
    "papermill": {
     "duration": 0.005825,
     "end_time": "2023-11-09T17:47:14.289836",
     "exception": false,
     "start_time": "2023-11-09T17:47:14.284011",
     "status": "completed"
    },
    "tags": []
   },
   "source": [
    "## Lazy Classifier\n",
    "### LazyClassifier из пакета lazypredict для автоматического поиска и сравнения различных моделей машинного обучения без необходимости явного указания каждой модели отдельно."
   ]
  },
  {
   "cell_type": "code",
   "execution_count": 7,
   "id": "ef9a4bb2",
   "metadata": {
    "execution": {
     "iopub.execute_input": "2023-11-09T17:47:14.301680Z",
     "iopub.status.busy": "2023-11-09T17:47:14.301274Z",
     "iopub.status.idle": "2023-11-09T17:47:34.866655Z",
     "shell.execute_reply": "2023-11-09T17:47:34.865713Z"
    },
    "papermill": {
     "duration": 20.574937,
     "end_time": "2023-11-09T17:47:34.869914",
     "exception": false,
     "start_time": "2023-11-09T17:47:14.294977",
     "status": "completed"
    },
    "tags": []
   },
   "outputs": [
    {
     "name": "stderr",
     "output_type": "stream",
     "text": [
      "  3%|██▊                                                                                | 1/29 [00:00<00:17,  1.57it/s]"
     ]
    },
    {
     "name": "stdout",
     "output_type": "stream",
     "text": [
      "{'Model': 'AdaBoostClassifier', 'Accuracy': 1.0, 'Balanced Accuracy': 1.0, 'ROC AUC': 1.0, 'F1 Score': 1.0, 'Time taken': 0.6364600658416748}\n"
     ]
    },
    {
     "name": "stderr",
     "output_type": "stream",
     "text": [
      "\r",
      "  7%|█████▋                                                                             | 2/29 [00:01<00:18,  1.43it/s]"
     ]
    },
    {
     "name": "stdout",
     "output_type": "stream",
     "text": [
      "{'Model': 'BaggingClassifier', 'Accuracy': 1.0, 'Balanced Accuracy': 1.0, 'ROC AUC': 1.0, 'F1 Score': 1.0, 'Time taken': 0.7473862171173096}\n"
     ]
    },
    {
     "name": "stderr",
     "output_type": "stream",
     "text": [
      "\r",
      " 10%|████████▌                                                                          | 3/29 [00:01<00:14,  1.74it/s]"
     ]
    },
    {
     "name": "stdout",
     "output_type": "stream",
     "text": [
      "{'Model': 'BernoulliNB', 'Accuracy': 0.98, 'Balanced Accuracy': 0.9799404270231034, 'ROC AUC': 0.9799404270231032, 'F1 Score': 0.9799992790656692, 'Time taken': 0.42410898208618164}\n"
     ]
    },
    {
     "name": "stderr",
     "output_type": "stream",
     "text": [
      "\r",
      " 14%|███████████▍                                                                       | 4/29 [00:03<00:22,  1.10it/s]"
     ]
    },
    {
     "name": "stdout",
     "output_type": "stream",
     "text": [
      "{'Model': 'CalibratedClassifierCV', 'Accuracy': 0.999, 'Balanced Accuracy': 0.9990338164251208, 'ROC AUC': 0.9990338164251208, 'F1 Score': 0.9990000340393494, 'Time taken': 1.4244163036346436}\n",
      "CategoricalNB model failed to execute\n",
      "Negative values in data passed to CategoricalNB (input X)\n"
     ]
    },
    {
     "name": "stderr",
     "output_type": "stream",
     "text": [
      " 24%|████████████████████                                                               | 7/29 [00:03<00:08,  2.56it/s]"
     ]
    },
    {
     "name": "stdout",
     "output_type": "stream",
     "text": [
      "{'Model': 'DecisionTreeClassifier', 'Accuracy': 1.0, 'Balanced Accuracy': 1.0, 'ROC AUC': 1.0, 'F1 Score': 1.0, 'Time taken': 0.14184904098510742}\n",
      "{'Model': 'DummyClassifier', 'Accuracy': 0.5175, 'Balanced Accuracy': 0.5, 'ROC AUC': 0.5, 'F1 Score': 0.3529571663920922, 'Time taken': 0.12479257583618164}\n"
     ]
    },
    {
     "name": "stderr",
     "output_type": "stream",
     "text": [
      "\r",
      " 28%|██████████████████████▉                                                            | 8/29 [00:03<00:06,  3.09it/s]"
     ]
    },
    {
     "name": "stdout",
     "output_type": "stream",
     "text": [
      "{'Model': 'ExtraTreeClassifier', 'Accuracy': 0.9375, 'Balanced Accuracy': 0.9376160796976296, 'ROC AUC': 0.9376160796976296, 'F1 Score': 0.9375101494575655, 'Time taken': 0.15070152282714844}\n"
     ]
    },
    {
     "name": "stderr",
     "output_type": "stream",
     "text": [
      " 34%|████████████████████████████▎                                                     | 10/29 [00:05<00:10,  1.76it/s]"
     ]
    },
    {
     "name": "stdout",
     "output_type": "stream",
     "text": [
      "{'Model': 'ExtraTreesClassifier', 'Accuracy': 0.993, 'Balanced Accuracy': 0.9928512427723962, 'ROC AUC': 0.9928512427723963, 'F1 Score': 0.9929989063365379, 'Time taken': 1.7845005989074707}\n",
      "{'Model': 'GaussianNB', 'Accuracy': 0.914, 'Balanced Accuracy': 0.9130885334534805, 'ROC AUC': 0.9130885334534805, 'F1 Score': 0.9138848887658081, 'Time taken': 0.13766908645629883}\n"
     ]
    },
    {
     "name": "stderr",
     "output_type": "stream",
     "text": [
      "\r",
      " 38%|███████████████████████████████                                                   | 11/29 [00:06<00:10,  1.68it/s]"
     ]
    },
    {
     "name": "stdout",
     "output_type": "stream",
     "text": [
      "{'Model': 'KNeighborsClassifier', 'Accuracy': 0.939, 'Balanced Accuracy': 0.9387149257840854, 'ROC AUC': 0.9387149257840854, 'F1 Score': 0.9389849687324393, 'Time taken': 0.6566791534423828}\n"
     ]
    },
    {
     "name": "stderr",
     "output_type": "stream",
     "text": [
      "\r",
      " 41%|█████████████████████████████████▉                                                | 12/29 [00:16<00:56,  3.31s/it]"
     ]
    },
    {
     "name": "stdout",
     "output_type": "stream",
     "text": [
      "{'Model': 'LabelPropagation', 'Accuracy': 0.932, 'Balanced Accuracy': 0.9323020700357938, 'ROC AUC': 0.9323020700357939, 'F1 Score': 0.9320179623463115, 'Time taken': 9.782914400100708}\n"
     ]
    },
    {
     "name": "stderr",
     "output_type": "stream",
     "text": [
      "\r",
      " 45%|████████████████████████████████████▊                                             | 13/29 [00:28<01:35,  6.00s/it]"
     ]
    },
    {
     "name": "stdout",
     "output_type": "stream",
     "text": [
      "{'Model': 'LabelSpreading', 'Accuracy': 0.932, 'Balanced Accuracy': 0.9323020700357938, 'ROC AUC': 0.9323020700357939, 'F1 Score': 0.9320179623463115, 'Time taken': 12.36513352394104}\n"
     ]
    },
    {
     "name": "stderr",
     "output_type": "stream",
     "text": [
      "\r",
      " 48%|███████████████████████████████████████▌                                          | 14/29 [00:29<01:09,  4.64s/it]"
     ]
    },
    {
     "name": "stdout",
     "output_type": "stream",
     "text": [
      "{'Model': 'LinearDiscriminantAnalysis', 'Accuracy': 0.953, 'Balanced Accuracy': 0.952276538759981, 'ROC AUC': 0.9522765387599811, 'F1 Score': 0.9529516369734145, 'Time taken': 1.4505043029785156}\n"
     ]
    },
    {
     "name": "stderr",
     "output_type": "stream",
     "text": [
      "\r",
      " 52%|██████████████████████████████████████████▍                                       | 15/29 [00:30<00:46,  3.36s/it]"
     ]
    },
    {
     "name": "stdout",
     "output_type": "stream",
     "text": [
      "{'Model': 'LinearSVC', 'Accuracy': 0.9995, 'Balanced Accuracy': 0.9995169082125603, 'ROC AUC': 0.9995169082125603, 'F1 Score': 0.9995000086352782, 'Time taken': 0.3319835662841797}\n"
     ]
    },
    {
     "name": "stderr",
     "output_type": "stream",
     "text": [
      " 59%|████████████████████████████████████████████████                                  | 17/29 [00:31<00:22,  1.89s/it]"
     ]
    },
    {
     "name": "stdout",
     "output_type": "stream",
     "text": [
      "{'Model': 'LogisticRegression', 'Accuracy': 0.9975, 'Balanced Accuracy': 0.9974443693524568, 'ROC AUC': 0.9974443693524567, 'F1 Score': 0.9974998629424051, 'Time taken': 0.9127142429351807}\n",
      "{'Model': 'NearestCentroid', 'Accuracy': 0.9445, 'Balanced Accuracy': 0.9435032915321269, 'ROC AUC': 0.9435032915321269, 'F1 Score': 0.944409205467379, 'Time taken': 0.16081571578979492}\n"
     ]
    },
    {
     "name": "stderr",
     "output_type": "stream",
     "text": [
      "\r",
      " 62%|██████████████████████████████████████████████████▉                               | 18/29 [00:49<01:13,  6.72s/it]"
     ]
    },
    {
     "name": "stdout",
     "output_type": "stream",
     "text": [
      "{'Model': 'NuSVC', 'Accuracy': 0.9225, 'Balanced Accuracy': 0.9205301494330556, 'ROC AUC': 0.9205301494330556, 'F1 Score': 0.9221301601972045, 'Time taken': 18.039297103881836}\n"
     ]
    },
    {
     "name": "stderr",
     "output_type": "stream",
     "text": [
      "\r",
      " 66%|█████████████████████████████████████████████████████▋                            | 19/29 [00:49<00:48,  4.81s/it]"
     ]
    },
    {
     "name": "stdout",
     "output_type": "stream",
     "text": [
      "{'Model': 'PassiveAggressiveClassifier', 'Accuracy': 0.997, 'Balanced Accuracy': 0.9969262346374308, 'ROC AUC': 0.9969262346374308, 'F1 Score': 0.9969997776956654, 'Time taken': 0.32238221168518066}\n"
     ]
    },
    {
     "name": "stderr",
     "output_type": "stream",
     "text": [
      "\r",
      " 69%|████████████████████████████████████████████████████████▌                         | 20/29 [00:49<00:30,  3.44s/it]"
     ]
    },
    {
     "name": "stdout",
     "output_type": "stream",
     "text": [
      "{'Model': 'Perceptron', 'Accuracy': 0.9855, 'Balanced Accuracy': 0.9854646942504568, 'ROC AUC': 0.9854646942504568, 'F1 Score': 0.9854997423002338, 'Time taken': 0.2262897491455078}\n"
     ]
    },
    {
     "name": "stderr",
     "output_type": "stream",
     "text": [
      "\r",
      " 72%|███████████████████████████████████████████████████████████▍                      | 21/29 [00:50<00:19,  2.48s/it]"
     ]
    },
    {
     "name": "stdout",
     "output_type": "stream",
     "text": [
      "{'Model': 'QuadraticDiscriminantAnalysis', 'Accuracy': 0.834, 'Balanced Accuracy': 0.8352331606217617, 'ROC AUC': 0.8352331606217617, 'F1 Score': 0.833959162529851, 'Time taken': 0.23348426818847656}\n"
     ]
    },
    {
     "name": "stderr",
     "output_type": "stream",
     "text": [
      "\r",
      " 76%|██████████████████████████████████████████████████████████████▏                   | 22/29 [00:53<00:19,  2.75s/it]"
     ]
    },
    {
     "name": "stdout",
     "output_type": "stream",
     "text": [
      "{'Model': 'RandomForestClassifier', 'Accuracy': 1.0, 'Balanced Accuracy': 1.0, 'ROC AUC': 1.0, 'F1 Score': 1.0, 'Time taken': 3.3935658931732178}\n"
     ]
    },
    {
     "name": "stderr",
     "output_type": "stream",
     "text": [
      "\r",
      " 79%|█████████████████████████████████████████████████████████████████                 | 23/29 [00:54<00:12,  2.06s/it]"
     ]
    },
    {
     "name": "stdout",
     "output_type": "stream",
     "text": [
      "{'Model': 'RidgeClassifier', 'Accuracy': 0.953, 'Balanced Accuracy': 0.952276538759981, 'ROC AUC': 0.9522765387599811, 'F1 Score': 0.9529516369734145, 'Time taken': 0.44803595542907715}\n"
     ]
    },
    {
     "name": "stderr",
     "output_type": "stream",
     "text": [
      " 86%|██████████████████████████████████████████████████████████████████████▋           | 25/29 [00:54<00:04,  1.12s/it]"
     ]
    },
    {
     "name": "stdout",
     "output_type": "stream",
     "text": [
      "{'Model': 'RidgeClassifierCV', 'Accuracy': 0.953, 'Balanced Accuracy': 0.952276538759981, 'ROC AUC': 0.9522765387599811, 'F1 Score': 0.9529516369734145, 'Time taken': 0.24934101104736328}\n",
      "{'Model': 'SGDClassifier', 'Accuracy': 0.993, 'Balanced Accuracy': 0.992956371555155, 'ROC AUC': 0.9929563715551549, 'F1 Score': 0.9929997476729843, 'Time taken': 0.20196843147277832}\n"
     ]
    },
    {
     "name": "stderr",
     "output_type": "stream",
     "text": [
      "\r",
      " 90%|█████████████████████████████████████████████████████████████████████████▌        | 26/29 [00:59<00:06,  2.31s/it]"
     ]
    },
    {
     "name": "stdout",
     "output_type": "stream",
     "text": [
      "{'Model': 'SVC', 'Accuracy': 0.96, 'Balanced Accuracy': 0.959215038422067, 'ROC AUC': 0.959215038422067, 'F1 Score': 0.95995281201849, 'Time taken': 5.066623687744141}\n",
      "StackingClassifier model failed to execute\n",
      "StackingClassifier.__init__() missing 1 required positional argument: 'estimators'\n"
     ]
    },
    {
     "name": "stderr",
     "output_type": "stream",
     "text": [
      "\r",
      " 97%|███████████████████████████████████████████████████████████████████████████████▏  | 28/29 [01:00<00:01,  1.47s/it]"
     ]
    },
    {
     "name": "stdout",
     "output_type": "stream",
     "text": [
      "{'Model': 'XGBClassifier', 'Accuracy': 1.0, 'Balanced Accuracy': 1.0, 'ROC AUC': 1.0, 'F1 Score': 1.0, 'Time taken': 0.9879395961761475}\n",
      "[LightGBM] [Info] Number of positive: 4118, number of negative: 3882\n",
      "[LightGBM] [Info] Auto-choosing col-wise multi-threading, the overhead of testing was 0.005426 seconds.\n",
      "You can set `force_col_wise=true` to remove the overhead.\n",
      "[LightGBM] [Info] Total Bins 14277\n",
      "[LightGBM] [Info] Number of data points in the train set: 8000, number of used features: 72\n",
      "[LightGBM] [Info] [binary:BoostFromScore]: pavg=0.514750 -> initscore=0.059017\n",
      "[LightGBM] [Info] Start training from score 0.059017\n",
      "[LightGBM] [Warning] No further splits with positive gain, best gain: -inf\n",
      "[LightGBM] [Warning] No further splits with positive gain, best gain: -inf\n",
      "[LightGBM] [Warning] No further splits with positive gain, best gain: -inf\n",
      "[LightGBM] [Warning] No further splits with positive gain, best gain: -inf\n",
      "[LightGBM] [Warning] No further splits with positive gain, best gain: -inf\n",
      "[LightGBM] [Warning] No further splits with positive gain, best gain: -inf\n",
      "[LightGBM] [Warning] No further splits with positive gain, best gain: -inf\n",
      "[LightGBM] [Warning] No further splits with positive gain, best gain: -inf\n",
      "[LightGBM] [Warning] No further splits with positive gain, best gain: -inf\n",
      "[LightGBM] [Warning] No further splits with positive gain, best gain: -inf\n",
      "[LightGBM] [Warning] No further splits with positive gain, best gain: -inf\n",
      "[LightGBM] [Warning] No further splits with positive gain, best gain: -inf\n",
      "[LightGBM] [Warning] No further splits with positive gain, best gain: -inf\n",
      "[LightGBM] [Warning] No further splits with positive gain, best gain: -inf\n",
      "[LightGBM] [Warning] No further splits with positive gain, best gain: -inf\n",
      "[LightGBM] [Warning] No further splits with positive gain, best gain: -inf\n",
      "[LightGBM] [Warning] No further splits with positive gain, best gain: -inf\n",
      "[LightGBM] [Warning] No further splits with positive gain, best gain: -inf\n",
      "[LightGBM] [Warning] No further splits with positive gain, best gain: -inf\n",
      "[LightGBM] [Warning] No further splits with positive gain, best gain: -inf\n",
      "[LightGBM] [Warning] No further splits with positive gain, best gain: -inf\n",
      "[LightGBM] [Warning] No further splits with positive gain, best gain: -inf\n",
      "[LightGBM] [Warning] No further splits with positive gain, best gain: -inf\n",
      "[LightGBM] [Warning] No further splits with positive gain, best gain: -inf\n",
      "[LightGBM] [Warning] No further splits with positive gain, best gain: -inf\n",
      "[LightGBM] [Warning] No further splits with positive gain, best gain: -inf\n",
      "[LightGBM] [Warning] No further splits with positive gain, best gain: -inf\n",
      "[LightGBM] [Warning] No further splits with positive gain, best gain: -inf\n",
      "[LightGBM] [Warning] No further splits with positive gain, best gain: -inf\n",
      "[LightGBM] [Warning] No further splits with positive gain, best gain: -inf\n",
      "[LightGBM] [Warning] No further splits with positive gain, best gain: -inf\n",
      "[LightGBM] [Warning] No further splits with positive gain, best gain: -inf\n",
      "[LightGBM] [Warning] No further splits with positive gain, best gain: -inf\n",
      "[LightGBM] [Warning] No further splits with positive gain, best gain: -inf\n",
      "[LightGBM] [Warning] No further splits with positive gain, best gain: -inf\n",
      "[LightGBM] [Warning] No further splits with positive gain, best gain: -inf\n",
      "[LightGBM] [Warning] No further splits with positive gain, best gain: -inf\n",
      "[LightGBM] [Warning] No further splits with positive gain, best gain: -inf\n",
      "[LightGBM] [Warning] No further splits with positive gain, best gain: -inf\n",
      "[LightGBM] [Warning] No further splits with positive gain, best gain: -inf\n",
      "[LightGBM] [Warning] No further splits with positive gain, best gain: -inf\n",
      "[LightGBM] [Warning] No further splits with positive gain, best gain: -inf\n",
      "[LightGBM] [Warning] No further splits with positive gain, best gain: -inf\n",
      "[LightGBM] [Warning] No further splits with positive gain, best gain: -inf\n",
      "[LightGBM] [Warning] No further splits with positive gain, best gain: -inf\n",
      "[LightGBM] [Warning] No further splits with positive gain, best gain: -inf\n",
      "[LightGBM] [Warning] No further splits with positive gain, best gain: -inf\n",
      "[LightGBM] [Warning] No further splits with positive gain, best gain: -inf\n",
      "[LightGBM] [Warning] No further splits with positive gain, best gain: -inf\n",
      "[LightGBM] [Warning] No further splits with positive gain, best gain: -inf\n",
      "[LightGBM] [Warning] No further splits with positive gain, best gain: -inf\n",
      "[LightGBM] [Warning] No further splits with positive gain, best gain: -inf\n",
      "[LightGBM] [Warning] No further splits with positive gain, best gain: -inf\n",
      "[LightGBM] [Warning] No further splits with positive gain, best gain: -inf\n",
      "[LightGBM] [Warning] No further splits with positive gain, best gain: -inf\n",
      "[LightGBM] [Warning] No further splits with positive gain, best gain: -inf\n",
      "[LightGBM] [Warning] No further splits with positive gain, best gain: -inf\n",
      "[LightGBM] [Warning] No further splits with positive gain, best gain: -inf\n",
      "[LightGBM] [Warning] No further splits with positive gain, best gain: -inf\n",
      "[LightGBM] [Warning] No further splits with positive gain, best gain: -inf\n"
     ]
    },
    {
     "name": "stderr",
     "output_type": "stream",
     "text": [
      "\r",
      "100%|██████████████████████████████████████████████████████████████████████████████████| 29/29 [01:04<00:00,  2.08s/it]"
     ]
    },
    {
     "name": "stdout",
     "output_type": "stream",
     "text": [
      "[LightGBM] [Warning] No further splits with positive gain, best gain: -inf\n",
      "[LightGBM] [Warning] No further splits with positive gain, best gain: -inf\n",
      "[LightGBM] [Warning] No further splits with positive gain, best gain: -inf\n",
      "[LightGBM] [Warning] No further splits with positive gain, best gain: -inf\n",
      "[LightGBM] [Warning] No further splits with positive gain, best gain: -inf\n",
      "[LightGBM] [Warning] No further splits with positive gain, best gain: -inf\n",
      "[LightGBM] [Warning] No further splits with positive gain, best gain: -inf\n",
      "[LightGBM] [Warning] No further splits with positive gain, best gain: -inf\n",
      "[LightGBM] [Warning] No further splits with positive gain, best gain: -inf\n",
      "[LightGBM] [Warning] No further splits with positive gain, best gain: -inf\n",
      "[LightGBM] [Warning] No further splits with positive gain, best gain: -inf\n",
      "[LightGBM] [Warning] No further splits with positive gain, best gain: -inf\n",
      "[LightGBM] [Warning] No further splits with positive gain, best gain: -inf\n",
      "[LightGBM] [Warning] No further splits with positive gain, best gain: -inf\n",
      "[LightGBM] [Warning] No further splits with positive gain, best gain: -inf\n",
      "[LightGBM] [Warning] No further splits with positive gain, best gain: -inf\n",
      "[LightGBM] [Warning] No further splits with positive gain, best gain: -inf\n",
      "[LightGBM] [Warning] No further splits with positive gain, best gain: -inf\n",
      "[LightGBM] [Warning] No further splits with positive gain, best gain: -inf\n",
      "[LightGBM] [Warning] No further splits with positive gain, best gain: -inf\n",
      "[LightGBM] [Warning] No further splits with positive gain, best gain: -inf\n",
      "[LightGBM] [Warning] No further splits with positive gain, best gain: -inf\n",
      "[LightGBM] [Warning] No further splits with positive gain, best gain: -inf\n",
      "[LightGBM] [Warning] No further splits with positive gain, best gain: -inf\n",
      "[LightGBM] [Warning] No further splits with positive gain, best gain: -inf\n",
      "[LightGBM] [Warning] No further splits with positive gain, best gain: -inf\n",
      "[LightGBM] [Warning] No further splits with positive gain, best gain: -inf\n",
      "[LightGBM] [Warning] No further splits with positive gain, best gain: -inf\n",
      "[LightGBM] [Warning] No further splits with positive gain, best gain: -inf\n",
      "[LightGBM] [Warning] No further splits with positive gain, best gain: -inf\n",
      "[LightGBM] [Warning] No further splits with positive gain, best gain: -inf\n",
      "[LightGBM] [Warning] No further splits with positive gain, best gain: -inf\n",
      "[LightGBM] [Warning] No further splits with positive gain, best gain: -inf\n",
      "[LightGBM] [Warning] No further splits with positive gain, best gain: -inf\n",
      "[LightGBM] [Warning] No further splits with positive gain, best gain: -inf\n",
      "[LightGBM] [Warning] No further splits with positive gain, best gain: -inf\n",
      "[LightGBM] [Warning] No further splits with positive gain, best gain: -inf\n",
      "[LightGBM] [Warning] No further splits with positive gain, best gain: -inf\n",
      "[LightGBM] [Warning] No further splits with positive gain, best gain: -inf\n",
      "[LightGBM] [Warning] No further splits with positive gain, best gain: -inf\n",
      "{'Model': 'LGBMClassifier', 'Accuracy': 1.0, 'Balanced Accuracy': 1.0, 'ROC AUC': 1.0, 'F1 Score': 1.0, 'Time taken': 3.9096317291259766}\n"
     ]
    },
    {
     "name": "stderr",
     "output_type": "stream",
     "text": [
      "\r",
      "100%|██████████████████████████████████████████████████████████████████████████████████| 29/29 [01:04<00:00,  2.22s/it]"
     ]
    },
    {
     "name": "stdout",
     "output_type": "stream",
     "text": [
      "                               Accuracy  Balanced Accuracy  ROC AUC  F1 Score  \\\n",
      "Model                                                                           \n",
      "AdaBoostClassifier                 1.00               1.00     1.00      1.00   \n",
      "BaggingClassifier                  1.00               1.00     1.00      1.00   \n",
      "XGBClassifier                      1.00               1.00     1.00      1.00   \n",
      "RandomForestClassifier             1.00               1.00     1.00      1.00   \n",
      "LGBMClassifier                     1.00               1.00     1.00      1.00   \n",
      "DecisionTreeClassifier             1.00               1.00     1.00      1.00   \n",
      "LinearSVC                          1.00               1.00     1.00      1.00   \n",
      "CalibratedClassifierCV             1.00               1.00     1.00      1.00   \n",
      "LogisticRegression                 1.00               1.00     1.00      1.00   \n",
      "PassiveAggressiveClassifier        1.00               1.00     1.00      1.00   \n",
      "SGDClassifier                      0.99               0.99     0.99      0.99   \n",
      "ExtraTreesClassifier               0.99               0.99     0.99      0.99   \n",
      "Perceptron                         0.99               0.99     0.99      0.99   \n",
      "BernoulliNB                        0.98               0.98     0.98      0.98   \n",
      "SVC                                0.96               0.96     0.96      0.96   \n",
      "LinearDiscriminantAnalysis         0.95               0.95     0.95      0.95   \n",
      "RidgeClassifier                    0.95               0.95     0.95      0.95   \n",
      "RidgeClassifierCV                  0.95               0.95     0.95      0.95   \n",
      "NearestCentroid                    0.94               0.94     0.94      0.94   \n",
      "KNeighborsClassifier               0.94               0.94     0.94      0.94   \n",
      "ExtraTreeClassifier                0.94               0.94     0.94      0.94   \n",
      "LabelPropagation                   0.93               0.93     0.93      0.93   \n",
      "LabelSpreading                     0.93               0.93     0.93      0.93   \n",
      "NuSVC                              0.92               0.92     0.92      0.92   \n",
      "GaussianNB                         0.91               0.91     0.91      0.91   \n",
      "QuadraticDiscriminantAnalysis      0.83               0.84     0.84      0.83   \n",
      "DummyClassifier                    0.52               0.50     0.50      0.35   \n",
      "\n",
      "                               Time Taken  \n",
      "Model                                      \n",
      "AdaBoostClassifier                   0.64  \n",
      "BaggingClassifier                    0.75  \n",
      "XGBClassifier                        0.99  \n",
      "RandomForestClassifier               3.39  \n",
      "LGBMClassifier                       3.91  \n",
      "DecisionTreeClassifier               0.14  \n",
      "LinearSVC                            0.33  \n",
      "CalibratedClassifierCV               1.42  \n",
      "LogisticRegression                   0.91  \n",
      "PassiveAggressiveClassifier          0.32  \n",
      "SGDClassifier                        0.20  \n",
      "ExtraTreesClassifier                 1.78  \n",
      "Perceptron                           0.23  \n",
      "BernoulliNB                          0.42  \n",
      "SVC                                  5.07  \n",
      "LinearDiscriminantAnalysis           1.45  \n",
      "RidgeClassifier                      0.45  \n",
      "RidgeClassifierCV                    0.25  \n",
      "NearestCentroid                      0.16  \n",
      "KNeighborsClassifier                 0.66  \n",
      "ExtraTreeClassifier                  0.15  \n",
      "LabelPropagation                     9.78  \n",
      "LabelSpreading                      12.37  \n",
      "NuSVC                               18.04  \n",
      "GaussianNB                           0.14  \n",
      "QuadraticDiscriminantAnalysis        0.23  \n",
      "DummyClassifier                      0.12  \n"
     ]
    },
    {
     "name": "stderr",
     "output_type": "stream",
     "text": [
      "\n"
     ]
    }
   ],
   "source": [
    "lazy=LazyClassifier(verbose=1, ignore_warnings=False, predictions=True)\n",
    "models,predict=lazy.fit(x_train,x_test,y_train,y_test)\n",
    "print(models)"
   ]
  },
  {
   "cell_type": "markdown",
   "id": "6de80f2f",
   "metadata": {
    "papermill": {
     "duration": 0.007494,
     "end_time": "2023-11-09T17:47:34.885325",
     "exception": false,
     "start_time": "2023-11-09T17:47:34.877831",
     "status": "completed"
    },
    "tags": []
   },
   "source": [
    "## Протестируем лучшую модель"
   ]
  },
  {
   "cell_type": "markdown",
   "id": "82800520",
   "metadata": {
    "papermill": {
     "duration": 0.007604,
     "end_time": "2023-11-09T17:47:34.900826",
     "exception": false,
     "start_time": "2023-11-09T17:47:34.893222",
     "status": "completed"
    },
    "tags": []
   },
   "source": [
    "## **Импорт**"
   ]
  },
  {
   "cell_type": "code",
   "execution_count": 8,
   "id": "ee3b9568",
   "metadata": {
    "execution": {
     "iopub.execute_input": "2023-11-09T17:47:34.918728Z",
     "iopub.status.busy": "2023-11-09T17:47:34.918334Z",
     "iopub.status.idle": "2023-11-09T17:47:34.922528Z",
     "shell.execute_reply": "2023-11-09T17:47:34.921582Z"
    },
    "papermill": {
     "duration": 0.016103,
     "end_time": "2023-11-09T17:47:34.924926",
     "exception": false,
     "start_time": "2023-11-09T17:47:34.908823",
     "status": "completed"
    },
    "tags": []
   },
   "outputs": [],
   "source": [
    "from sklearn.ensemble import AdaBoostClassifier\n",
    "from sklearn.metrics import accuracy_score, confusion_matrix, classification_report"
   ]
  },
  {
   "cell_type": "markdown",
   "id": "4d09743e",
   "metadata": {
    "papermill": {
     "duration": 0.007141,
     "end_time": "2023-11-09T17:47:34.939887",
     "exception": false,
     "start_time": "2023-11-09T17:47:34.932746",
     "status": "completed"
    },
    "tags": []
   },
   "source": [
    "## **Импорт данных**"
   ]
  },
  {
   "cell_type": "code",
   "execution_count": 9,
   "id": "9ad09edf",
   "metadata": {
    "execution": {
     "iopub.execute_input": "2023-11-09T17:47:34.956760Z",
     "iopub.status.busy": "2023-11-09T17:47:34.956363Z",
     "iopub.status.idle": "2023-11-09T17:47:36.376383Z",
     "shell.execute_reply": "2023-11-09T17:47:36.374675Z"
    },
    "papermill": {
     "duration": 1.431703,
     "end_time": "2023-11-09T17:47:36.379384",
     "exception": false,
     "start_time": "2023-11-09T17:47:34.947681",
     "status": "completed"
    },
    "tags": []
   },
   "outputs": [
    {
     "name": "stdout",
     "output_type": "stream",
     "text": [
      "(177482, 86)\n"
     ]
    }
   ],
   "source": [
    "data = pd.read_csv('/kaggle/input/trojan-detection/Trojan_Detection.csv')\n",
    "\n",
    "print(data.shape)"
   ]
  },
  {
   "cell_type": "markdown",
   "id": "06e90481",
   "metadata": {
    "papermill": {
     "duration": 0.007521,
     "end_time": "2023-11-09T17:47:36.395309",
     "exception": false,
     "start_time": "2023-11-09T17:47:36.387788",
     "status": "completed"
    },
    "tags": []
   },
   "source": [
    "## **Столбцы кодировки**"
   ]
  },
  {
   "cell_type": "code",
   "execution_count": 10,
   "id": "498c51dd",
   "metadata": {
    "execution": {
     "iopub.execute_input": "2023-11-09T17:47:36.412587Z",
     "iopub.status.busy": "2023-11-09T17:47:36.412173Z",
     "iopub.status.idle": "2023-11-09T17:47:37.072546Z",
     "shell.execute_reply": "2023-11-09T17:47:37.071519Z"
    },
    "papermill": {
     "duration": 0.672406,
     "end_time": "2023-11-09T17:47:37.075314",
     "exception": false,
     "start_time": "2023-11-09T17:47:36.402908",
     "status": "completed"
    },
    "tags": []
   },
   "outputs": [],
   "source": [
    "lab=LabelEncoder()\n",
    "\n",
    "# Кодирование функций\n",
    "for i  in data.select_dtypes(include=\"object\").columns.values:\n",
    "    data[i]=lab.fit_transform(data[i])\n",
    "\n",
    "# Кодирование меток\n",
    "data['Class']=lab.fit_transform(data['Class'])"
   ]
  },
  {
   "cell_type": "markdown",
   "id": "de8562ba",
   "metadata": {
    "papermill": {
     "duration": 0.007274,
     "end_time": "2023-11-09T17:47:37.090950",
     "exception": false,
     "start_time": "2023-11-09T17:47:37.083676",
     "status": "completed"
    },
    "tags": []
   },
   "source": [
    "## **Разделение данных**"
   ]
  },
  {
   "cell_type": "code",
   "execution_count": 11,
   "id": "af86b433",
   "metadata": {
    "execution": {
     "iopub.execute_input": "2023-11-09T17:47:37.107926Z",
     "iopub.status.busy": "2023-11-09T17:47:37.107513Z",
     "iopub.status.idle": "2023-11-09T17:47:37.134564Z",
     "shell.execute_reply": "2023-11-09T17:47:37.133796Z"
    },
    "papermill": {
     "duration": 0.038474,
     "end_time": "2023-11-09T17:47:37.136893",
     "exception": false,
     "start_time": "2023-11-09T17:47:37.098419",
     "status": "completed"
    },
    "tags": []
   },
   "outputs": [],
   "source": [
    "x = data.iloc[:, 0:-2]\n",
    "y = data.iloc[:, -1]"
   ]
  },
  {
   "cell_type": "code",
   "execution_count": 12,
   "id": "f3a1df5d",
   "metadata": {
    "execution": {
     "iopub.execute_input": "2023-11-09T17:47:37.154934Z",
     "iopub.status.busy": "2023-11-09T17:47:37.154192Z",
     "iopub.status.idle": "2023-11-09T17:47:37.286120Z",
     "shell.execute_reply": "2023-11-09T17:47:37.284683Z"
    },
    "papermill": {
     "duration": 0.143516,
     "end_time": "2023-11-09T17:47:37.288595",
     "exception": false,
     "start_time": "2023-11-09T17:47:37.145079",
     "status": "completed"
    },
    "tags": []
   },
   "outputs": [],
   "source": [
    "x_train,x_test,y_train,y_test=train_test_split(x, y, test_size=0.20, train_size=0.80)"
   ]
  },
  {
   "cell_type": "code",
   "execution_count": 13,
   "id": "8ab796de",
   "metadata": {
    "execution": {
     "iopub.execute_input": "2023-11-09T17:47:37.307074Z",
     "iopub.status.busy": "2023-11-09T17:47:37.306699Z",
     "iopub.status.idle": "2023-11-09T17:47:38.171140Z",
     "shell.execute_reply": "2023-11-09T17:47:38.170507Z"
    },
    "papermill": {
     "duration": 0.875577,
     "end_time": "2023-11-09T17:47:38.172868",
     "exception": false,
     "start_time": "2023-11-09T17:47:37.297291",
     "status": "completed"
    },
    "tags": []
   },
   "outputs": [
    {
     "data": {
      "text/html": [
       "<style>#sk-container-id-1 {color: black;background-color: white;}#sk-container-id-1 pre{padding: 0;}#sk-container-id-1 div.sk-toggleable {background-color: white;}#sk-container-id-1 label.sk-toggleable__label {cursor: pointer;display: block;width: 100%;margin-bottom: 0;padding: 0.3em;box-sizing: border-box;text-align: center;}#sk-container-id-1 label.sk-toggleable__label-arrow:before {content: \"▸\";float: left;margin-right: 0.25em;color: #696969;}#sk-container-id-1 label.sk-toggleable__label-arrow:hover:before {color: black;}#sk-container-id-1 div.sk-estimator:hover label.sk-toggleable__label-arrow:before {color: black;}#sk-container-id-1 div.sk-toggleable__content {max-height: 0;max-width: 0;overflow: hidden;text-align: left;background-color: #f0f8ff;}#sk-container-id-1 div.sk-toggleable__content pre {margin: 0.2em;color: black;border-radius: 0.25em;background-color: #f0f8ff;}#sk-container-id-1 input.sk-toggleable__control:checked~div.sk-toggleable__content {max-height: 200px;max-width: 100%;overflow: auto;}#sk-container-id-1 input.sk-toggleable__control:checked~label.sk-toggleable__label-arrow:before {content: \"▾\";}#sk-container-id-1 div.sk-estimator input.sk-toggleable__control:checked~label.sk-toggleable__label {background-color: #d4ebff;}#sk-container-id-1 div.sk-label input.sk-toggleable__control:checked~label.sk-toggleable__label {background-color: #d4ebff;}#sk-container-id-1 input.sk-hidden--visually {border: 0;clip: rect(1px 1px 1px 1px);clip: rect(1px, 1px, 1px, 1px);height: 1px;margin: -1px;overflow: hidden;padding: 0;position: absolute;width: 1px;}#sk-container-id-1 div.sk-estimator {font-family: monospace;background-color: #f0f8ff;border: 1px dotted black;border-radius: 0.25em;box-sizing: border-box;margin-bottom: 0.5em;}#sk-container-id-1 div.sk-estimator:hover {background-color: #d4ebff;}#sk-container-id-1 div.sk-parallel-item::after {content: \"\";width: 100%;border-bottom: 1px solid gray;flex-grow: 1;}#sk-container-id-1 div.sk-label:hover label.sk-toggleable__label {background-color: #d4ebff;}#sk-container-id-1 div.sk-serial::before {content: \"\";position: absolute;border-left: 1px solid gray;box-sizing: border-box;top: 0;bottom: 0;left: 50%;z-index: 0;}#sk-container-id-1 div.sk-serial {display: flex;flex-direction: column;align-items: center;background-color: white;padding-right: 0.2em;padding-left: 0.2em;position: relative;}#sk-container-id-1 div.sk-item {position: relative;z-index: 1;}#sk-container-id-1 div.sk-parallel {display: flex;align-items: stretch;justify-content: center;background-color: white;position: relative;}#sk-container-id-1 div.sk-item::before, #sk-container-id-1 div.sk-parallel-item::before {content: \"\";position: absolute;border-left: 1px solid gray;box-sizing: border-box;top: 0;bottom: 0;left: 50%;z-index: -1;}#sk-container-id-1 div.sk-parallel-item {display: flex;flex-direction: column;z-index: 1;position: relative;background-color: white;}#sk-container-id-1 div.sk-parallel-item:first-child::after {align-self: flex-end;width: 50%;}#sk-container-id-1 div.sk-parallel-item:last-child::after {align-self: flex-start;width: 50%;}#sk-container-id-1 div.sk-parallel-item:only-child::after {width: 0;}#sk-container-id-1 div.sk-dashed-wrapped {border: 1px dashed gray;margin: 0 0.4em 0.5em 0.4em;box-sizing: border-box;padding-bottom: 0.4em;background-color: white;}#sk-container-id-1 div.sk-label label {font-family: monospace;font-weight: bold;display: inline-block;line-height: 1.2em;}#sk-container-id-1 div.sk-label-container {text-align: center;}#sk-container-id-1 div.sk-container {/* jupyter's `normalize.less` sets `[hidden] { display: none; }` but bootstrap.min.css set `[hidden] { display: none !important; }` so we also need the `!important` here to be able to override the default hidden behavior on the sphinx rendered scikit-learn.org. See: https://github.com/scikit-learn/scikit-learn/issues/21755 */display: inline-block !important;position: relative;}#sk-container-id-1 div.sk-text-repr-fallback {display: none;}</style><div id=\"sk-container-id-1\" class=\"sk-top-container\"><div class=\"sk-text-repr-fallback\"><pre>AdaBoostClassifier(learning_rate=1, random_state=42)</pre><b>In a Jupyter environment, please rerun this cell to show the HTML representation or trust the notebook. <br />On GitHub, the HTML representation is unable to render, please try loading this page with nbviewer.org.</b></div><div class=\"sk-container\" hidden><div class=\"sk-item\"><div class=\"sk-estimator sk-toggleable\"><input class=\"sk-toggleable__control sk-hidden--visually\" id=\"sk-estimator-id-1\" type=\"checkbox\" checked><label for=\"sk-estimator-id-1\" class=\"sk-toggleable__label sk-toggleable__label-arrow\">AdaBoostClassifier</label><div class=\"sk-toggleable__content\"><pre>AdaBoostClassifier(learning_rate=1, random_state=42)</pre></div></div></div></div></div>"
      ],
      "text/plain": [
       "AdaBoostClassifier(learning_rate=1, random_state=42)"
      ]
     },
     "execution_count": 13,
     "metadata": {},
     "output_type": "execute_result"
    }
   ],
   "source": [
    "# # Инициализировать классификатор AdaBoost\n",
    "model = AdaBoostClassifier(n_estimators=50, learning_rate=1, random_state=42)\n",
    "\n",
    "# Подогнать модель под данные обучения\n",
    "model.fit(x_train, y_train)"
   ]
  },
  {
   "cell_type": "markdown",
   "id": "effbf1bb",
   "metadata": {
    "papermill": {
     "duration": 0.00752,
     "end_time": "2023-11-09T17:47:38.188381",
     "exception": false,
     "start_time": "2023-11-09T17:47:38.180861",
     "status": "completed"
    },
    "tags": []
   },
   "source": [
    "## **Тестовая модель на тестовом наборе**"
   ]
  },
  {
   "cell_type": "code",
   "execution_count": 14,
   "id": "1846e18d",
   "metadata": {
    "execution": {
     "iopub.execute_input": "2023-11-09T17:47:38.205981Z",
     "iopub.status.busy": "2023-11-09T17:47:38.205325Z",
     "iopub.status.idle": "2023-11-09T17:47:38.280164Z",
     "shell.execute_reply": "2023-11-09T17:47:38.279512Z"
    },
    "papermill": {
     "duration": 0.086026,
     "end_time": "2023-11-09T17:47:38.282082",
     "exception": false,
     "start_time": "2023-11-09T17:47:38.196056",
     "status": "completed"
    },
    "tags": []
   },
   "outputs": [
    {
     "name": "stdout",
     "output_type": "stream",
     "text": [
      "Accuracy: 1.00\n",
      "Confusion Matrix for AdaBoostClassifier:\n",
      "[[17367     1]\n",
      " [    0 18129]]\n",
      "Classification Report for AdaBoostClassifier:\n",
      "              precision    recall  f1-score   support\n",
      "\n",
      "           0       1.00      1.00      1.00     17368\n",
      "           1       1.00      1.00      1.00     18129\n",
      "\n",
      "    accuracy                           1.00     35497\n",
      "   macro avg       1.00      1.00      1.00     35497\n",
      "weighted avg       1.00      1.00      1.00     35497\n",
      "\n"
     ]
    }
   ],
   "source": [
    "# Предсказать результаты тестового набора\n",
    "y_pred  = model.predict(x_test)\n",
    "\n",
    "# Calculate the accuracy\n",
    "accuracy = accuracy_score(y_test, y_pred)\n",
    "print(f'Accuracy: {accuracy:.2f}')\n",
    "\n",
    "# Confusion Matrix\n",
    "conf_matrix = confusion_matrix(y_test, y_pred)\n",
    "print(f'Confusion Matrix for AdaBoostClassifier:\\n{conf_matrix}')\n",
    "\n",
    "# Отчет о классификации\n",
    "class_report = classification_report(y_test, y_pred)\n",
    "print(f'Classification Report for AdaBoostClassifier:\\n{class_report}')"
   ]
  },
  {
   "cell_type": "markdown",
   "id": "fe37af22",
   "metadata": {},
   "source": [
    "#### Результаты оценки модели AdaBoostClassifier очень впечатляющие:\n",
    "\n",
    "Accuracy (точность): Значение 1.00 означает, что модель правильно классифицировала все примеры в тестовом наборе данных, что свидетельствует о высоком качестве классификации.\n",
    "\n",
    "Confusion Matrix (матрица ошибок): Матрица показывает, что модель правильно предсказала 17367 негативных примеров (true negatives) и 18129 положительных примеров (true positives), при этом совершив всего одну ошибку false negative и ни одной ошибки false positive. Это означает, что модель неверно классифицировала только один положительный пример из 35497.\n",
    "\n",
    "Classification Report (отчет о классификации): Отчет также подтверждает идеальное качество классификации для обоих классов (0 и 1) с высокими значениями precision, recall и f1-score, равными 1.00. Также отметим, что значение поддержки (support) для каждого класса соответствует реальному количеству примеров в тестовом наборе данных.\n",
    "\n",
    "В целом, эти результаты говорят о том, что модель AdaBoostClassifier успешно обучилась на обучающих данных и хорошо обобщила полученные знания на тестовых данных, обеспечивая идеальное качество классификации."
   ]
  },
  {
   "cell_type": "code",
   "execution_count": null,
   "id": "1c48d54e",
   "metadata": {},
   "outputs": [],
   "source": []
  }
 ],
 "metadata": {
  "kernelspec": {
   "display_name": "Python 3 (ipykernel)",
   "language": "python",
   "name": "python3"
  },
  "language_info": {
   "codemirror_mode": {
    "name": "ipython",
    "version": 3
   },
   "file_extension": ".py",
   "mimetype": "text/x-python",
   "name": "python",
   "nbconvert_exporter": "python",
   "pygments_lexer": "ipython3",
   "version": "3.10.9"
  },
  "papermill": {
   "default_parameters": {},
   "duration": 58.464055,
   "end_time": "2023-11-09T17:47:40.215879",
   "environment_variables": {},
   "exception": null,
   "input_path": "__notebook__.ipynb",
   "output_path": "__notebook__.ipynb",
   "parameters": {},
   "start_time": "2023-11-09T17:46:41.751824",
   "version": "2.4.0"
  }
 },
 "nbformat": 4,
 "nbformat_minor": 5
}
